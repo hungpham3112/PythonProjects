{
 "cells": [
  {
   "cell_type": "code",
   "execution_count": 2,
   "id": "5b6e3555-5a79-44e1-b24f-e7dd42121a89",
   "metadata": {},
   "outputs": [],
   "source": [
    "import torch\n",
    "import torch.nn as nn"
   ]
  },
  {
   "cell_type": "code",
   "execution_count": 6,
   "id": "37766d1a-e50a-47d6-b02a-8cf97e258492",
   "metadata": {},
   "outputs": [],
   "source": [
    "class MyDecisionGate(nn.Module):\n",
    "    def forward(self, x):\n",
    "        if x.sum() > 0:\n",
    "            return x\n",
    "        else:\n",
    "            return -x"
   ]
  },
  {
   "cell_type": "code",
   "execution_count": 8,
   "id": "da45fd79-c840-4c61-bc1e-a2f67a198ae8",
   "metadata": {},
   "outputs": [],
   "source": [
    "class MyCell(nn.Module):\n",
    "    def __init__(self):\n",
    "        super(MyCell, self).__init__()\n",
    "        self.dg = MyDecisionGate()\n",
    "        self.linear = nn.Linear(4,4)\n",
    "        \n",
    "    def forward(self, x, h):\n",
    "        new_h = torch.tanh(self.dg(self.linear(x)) + h)\n",
    "        return new_h, new_h\n",
    "\n",
    "cell = MyCell()\n",
    "x, h = torch.rand(3, 4), torch.rand(3, 4)"
   ]
  },
  {
   "cell_type": "code",
   "execution_count": 9,
   "id": "ada143c1-6c99-4c18-b928-4240126bd8e6",
   "metadata": {},
   "outputs": [
    {
     "data": {
      "text/plain": [
       "(tensor([[ 0.7993,  0.2224,  0.6987,  0.3583],\n",
       "         [ 0.3484,  0.4165,  0.9276,  0.1115],\n",
       "         [ 0.3825,  0.6215,  0.8559, -0.1185]], grad_fn=<TanhBackward0>),\n",
       " tensor([[ 0.7993,  0.2224,  0.6987,  0.3583],\n",
       "         [ 0.3484,  0.4165,  0.9276,  0.1115],\n",
       "         [ 0.3825,  0.6215,  0.8559, -0.1185]], grad_fn=<TanhBackward0>))"
      ]
     },
     "execution_count": 9,
     "metadata": {},
     "output_type": "execute_result"
    }
   ],
   "source": [
    "cell.forward(x, h)"
   ]
  },
  {
   "cell_type": "code",
   "execution_count": 11,
   "id": "3c489f1a-c4a8-4adc-a199-528623109022",
   "metadata": {},
   "outputs": [
    {
     "name": "stderr",
     "output_type": "stream",
     "text": [
      "/tmp/ipykernel_54144/3423144663.py:3: TracerWarning: Converting a tensor to a Python boolean might cause the trace to be incorrect. We can't record the data flow of Python values, so this value will be treated as a constant in the future. This means that the trace might not generalize to other inputs!\n",
      "  if x.sum() > 0:\n"
     ]
    }
   ],
   "source": [
    "traced_cell = torch.jit.trace(cell, (x, h))"
   ]
  },
  {
   "cell_type": "code",
   "execution_count": 12,
   "id": "7206d4ed-6c4f-4840-83b2-15a175b42d91",
   "metadata": {},
   "outputs": [
    {
     "name": "stdout",
     "output_type": "stream",
     "text": [
      "MyCell(\n",
      "  (dg): MyDecisionGate()\n",
      "  (linear): Linear(in_features=4, out_features=4, bias=True)\n",
      ")\n"
     ]
    }
   ],
   "source": [
    "print(cell)"
   ]
  },
  {
   "cell_type": "code",
   "execution_count": 13,
   "id": "456c6a98-7851-48fa-82a1-03e2e6b20a39",
   "metadata": {},
   "outputs": [
    {
     "name": "stdout",
     "output_type": "stream",
     "text": [
      "MyCell(\n",
      "  original_name=MyCell\n",
      "  (dg): MyDecisionGate(original_name=MyDecisionGate)\n",
      "  (linear): Linear(original_name=Linear)\n",
      ")\n"
     ]
    }
   ],
   "source": [
    "print(traced_cell)"
   ]
  },
  {
   "cell_type": "code",
   "execution_count": 14,
   "id": "c35e1dd4-3068-43d0-ad57-a418cf6b1fa7",
   "metadata": {},
   "outputs": [
    {
     "data": {
      "text/plain": [
       "(tensor([[ 0.7993,  0.2224,  0.6987,  0.3583],\n",
       "         [ 0.3484,  0.4165,  0.9276,  0.1115],\n",
       "         [ 0.3825,  0.6215,  0.8559, -0.1185]], grad_fn=<TanhBackward0>),\n",
       " tensor([[ 0.7993,  0.2224,  0.6987,  0.3583],\n",
       "         [ 0.3484,  0.4165,  0.9276,  0.1115],\n",
       "         [ 0.3825,  0.6215,  0.8559, -0.1185]], grad_fn=<TanhBackward0>))"
      ]
     },
     "execution_count": 14,
     "metadata": {},
     "output_type": "execute_result"
    }
   ],
   "source": [
    "traced_cell(x, h)"
   ]
  },
  {
   "cell_type": "code",
   "execution_count": 18,
   "id": "fcb6467d-e1b3-43cb-b215-beede9d9aa6a",
   "metadata": {},
   "outputs": [
    {
     "data": {
      "text/plain": [
       "(True, True)"
      ]
     },
     "execution_count": 18,
     "metadata": {},
     "output_type": "execute_result"
    }
   ],
   "source": [
    "torch.allclose(traced_cell(x, h)[0], cell(x, h)[0]), torch.allclose(traced_cell(x, h)[1], cell(x, h)[1])\n",
    "# In this situation instead of tracing doesn't work completely (look at above warning) but both result of 2 instances are same."
   ]
  },
  {
   "cell_type": "code",
   "execution_count": 24,
   "id": "7c81a7e1-5b3a-488b-b597-ee7257b0e377",
   "metadata": {},
   "outputs": [
    {
     "name": "stdout",
     "output_type": "stream",
     "text": [
      "graph(%self.1 : __torch__.MyCell,\n",
      "      %x.1 : Float(3, 4, strides=[4, 1], requires_grad=0, device=cpu),\n",
      "      %h : Float(3, 4, strides=[4, 1], requires_grad=0, device=cpu)):\n",
      "  %dg : __torch__.MyDecisionGate = prim::GetAttr[name=\"dg\"](%self.1)\n",
      "  %linear : __torch__.torch.nn.modules.linear.Linear = prim::GetAttr[name=\"linear\"](%self.1)\n",
      "  %31 : Tensor = prim::CallMethod[name=\"forward\"](%linear, %x.1)\n",
      "  %32 : NoneType = prim::CallMethod[name=\"forward\"](%dg, %31)\n",
      "  %18 : int = prim::Constant[value=1]() # /tmp/ipykernel_54144/1343332710.py:8:0\n",
      "  %19 : Float(3, 4, strides=[4, 1], requires_grad=1, device=cpu) = aten::add(%31, %h, %18) # /tmp/ipykernel_54144/1343332710.py:8:0\n",
      "  %20 : Float(3, 4, strides=[4, 1], requires_grad=1, device=cpu) = aten::tanh(%19) # /tmp/ipykernel_54144/1343332710.py:8:0\n",
      "  %21 : (Float(3, 4, strides=[4, 1], requires_grad=1, device=cpu), Float(3, 4, strides=[4, 1], requires_grad=1, device=cpu)) = prim::TupleConstruct(%20, %20)\n",
      "  return (%21)\n",
      "\n"
     ]
    }
   ],
   "source": [
    "print(traced_cell.graph)"
   ]
  },
  {
   "cell_type": "code",
   "execution_count": 23,
   "id": "1035f5cd-86f2-4efc-9c87-a21f059a23a5",
   "metadata": {},
   "outputs": [
    {
     "name": "stdout",
     "output_type": "stream",
     "text": [
      "graph(%self : __torch__.MyDecisionGate,\n",
      "      %3 : Float(3, 4, strides=[4, 1], requires_grad=1, device=cpu)):\n",
      "  %6 : NoneType = prim::Constant()\n",
      "  return (%6)\n",
      "\n"
     ]
    }
   ],
   "source": [
    "print(traced_cell.dg.graph)"
   ]
  },
  {
   "cell_type": "code",
   "execution_count": 25,
   "id": "7c5d4e92-dcf9-4ee6-9b53-90eaa4b05672",
   "metadata": {},
   "outputs": [
    {
     "name": "stderr",
     "output_type": "stream",
     "text": [
      "/home/vanellope/miniforge3/envs/School/lib/python3.11/site-packages/torch/jit/_script.py:1277: UserWarning: `optimize` is deprecated and has no effect. Use `with torch.jit.optimized_execution() instead\n",
      "  warnings.warn(\n"
     ]
    }
   ],
   "source": [
    "scripted_cell = torch.jit.script(cell, (x, h))"
   ]
  },
  {
   "cell_type": "code",
   "execution_count": null,
   "id": "a69beb53-f834-49c5-8757-ef458a6e8150",
   "metadata": {},
   "outputs": [],
   "source": []
  }
 ],
 "metadata": {
  "kernelspec": {
   "display_name": "Python 3 (ipykernel)",
   "language": "python",
   "name": "python3"
  },
  "language_info": {
   "codemirror_mode": {
    "name": "ipython",
    "version": 3
   },
   "file_extension": ".py",
   "mimetype": "text/x-python",
   "name": "python",
   "nbconvert_exporter": "python",
   "pygments_lexer": "ipython3",
   "version": "3.11.7"
  }
 },
 "nbformat": 4,
 "nbformat_minor": 5
}
