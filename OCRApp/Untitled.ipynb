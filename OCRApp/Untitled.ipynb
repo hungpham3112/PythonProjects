{
 "cells": [
  {
   "cell_type": "code",
   "execution_count": null,
   "id": "e70e996d-6635-4dd8-b922-e8654559e300",
   "metadata": {},
   "outputs": [
    {
     "name": "stdout",
     "output_type": "stream",
     "text": [
      "> \u001b[0;32m/tmp/ipykernel_52478/3350174162.py\u001b[0m(68)\u001b[0;36mextract_text_lines\u001b[0;34m()\u001b[0m\n",
      "\u001b[0;32m     66 \u001b[0;31m    \u001b[0mimg\u001b[0m \u001b[0;34m=\u001b[0m \u001b[0mnp\u001b[0m\u001b[0;34m.\u001b[0m\u001b[0marray\u001b[0m\u001b[0;34m(\u001b[0m\u001b[0mimage\u001b[0m\u001b[0;34m)\u001b[0m\u001b[0;34m\u001b[0m\u001b[0;34m\u001b[0m\u001b[0m\n",
      "\u001b[0m\u001b[0;32m     67 \u001b[0;31m    \u001b[0mpdb\u001b[0m\u001b[0;34m.\u001b[0m\u001b[0mset_trace\u001b[0m\u001b[0;34m(\u001b[0m\u001b[0;34m)\u001b[0m\u001b[0;34m\u001b[0m\u001b[0;34m\u001b[0m\u001b[0m\n",
      "\u001b[0m\u001b[0;32m---> 68 \u001b[0;31m    \u001b[0mprint\u001b[0m\u001b[0;34m(\u001b[0m\u001b[0mimg\u001b[0m\u001b[0;34m.\u001b[0m\u001b[0mshape\u001b[0m\u001b[0;34m)\u001b[0m\u001b[0;34m\u001b[0m\u001b[0;34m\u001b[0m\u001b[0m\n",
      "\u001b[0m\u001b[0;32m     69 \u001b[0;31m\u001b[0;34m\u001b[0m\u001b[0m\n",
      "\u001b[0m\u001b[0;32m     70 \u001b[0;31m    \u001b[0;31m# Check if the image is already in grayscale\u001b[0m\u001b[0;34m\u001b[0m\u001b[0;34m\u001b[0m\u001b[0m\n",
      "\u001b[0m\n"
     ]
    },
    {
     "name": "stdin",
     "output_type": "stream",
     "text": [
      "ipdb>  img.size\n"
     ]
    },
    {
     "name": "stdout",
     "output_type": "stream",
     "text": [
      "3036000\n"
     ]
    },
    {
     "name": "stdin",
     "output_type": "stream",
     "text": [
      "ipdb>  img.shape\n"
     ]
    },
    {
     "name": "stdout",
     "output_type": "stream",
     "text": [
      "(800, 1265, 3)\n"
     ]
    }
   ],
   "source": [
    "import cv2\n",
    "import pytesseract\n",
    "from PIL import Image\n",
    "import fitz  # PyMuPDF\n",
    "import docx\n",
    "import json\n",
    "import numpy as np\n",
    "import io\n",
    "import os\n",
    "import shutil\n",
    "from typing import List, Tuple, Dict\n",
    "import pdb\n",
    "# Function to clear the output directory\n",
    "def clear_output_directory(output_dir: str) -> None:\n",
    "    if os.path.exists(output_dir):\n",
    "        shutil.rmtree(output_dir)\n",
    "    os.makedirs(output_dir)\n",
    "\n",
    "# Function to preprocess documents and convert to images\n",
    "def preprocess_document(file_path: str) -> List[Image.Image]:\n",
    "    if file_path.endswith('.pdf'):\n",
    "        return extract_images_from_pdf(file_path)\n",
    "    elif file_path.endswith('.doc') or file_path.endswith('.docx'):\n",
    "        return extract_images_from_doc(file_path)\n",
    "    else:\n",
    "        return [Image.open(file_path).convert(\"RGB\")]\n",
    "\n",
    "# Function to extract images from PDF\n",
    "def extract_images_from_pdf(file_path: str) -> List[Image.Image]:\n",
    "    images = []\n",
    "    doc = fitz.open(file_path)\n",
    "    for page in doc:\n",
    "        pix = page.get_pixmap()\n",
    "        img = Image.frombytes(\"RGB\", [pix.width, pix.height], pix.samples)\n",
    "        images.append(img)\n",
    "    return images\n",
    "\n",
    "# Function to extract images from DOC/DOCX\n",
    "def extract_images_from_doc(file_path: str) -> List[Image.Image]:\n",
    "    images = []\n",
    "    doc = docx.Document(file_path)\n",
    "    for rel in doc.part.rels.values():\n",
    "        if \"image\" in rel.target_ref:\n",
    "            image_data = rel.target_part.blob\n",
    "            img = Image.open(io.BytesIO(image_data)).convert(\"RGB\")\n",
    "            images.append(img)\n",
    "    return images\n",
    "\n",
    "# Function to resize images\n",
    "def resize_image(image: Image.Image, max_size: Tuple[int, int] = (2000, 2000)) -> Tuple[Image.Image, float]:\n",
    "    img = np.array(image)\n",
    "    height, width = img.shape[:2]\n",
    "    if height > max_size[0] or width > max_size[1]:\n",
    "        scaling_factor = min(max_size[0] / height, max_size[1] / width)\n",
    "        img = cv2.resize(img, None, fx=scaling_factor, fy=scaling_factor, interpolation=cv2.INTER_AREA)\n",
    "    elif height < 800 or width < 800:\n",
    "        scaling_factor = max(800 / height, 800 / width)\n",
    "        img = cv2.resize(img, None, fx=scaling_factor, fy=scaling_factor, interpolation=cv2.INTER_LINEAR)\n",
    "    else:\n",
    "        scaling_factor = 1  # No resizing needed\n",
    "    return Image.fromarray(img), scaling_factor\n",
    "\n",
    "# Function to extract text lines using OCR\n",
    "def extract_text_lines(image: Image.Image) -> List[Dict[str, Dict[str, int]]]:\n",
    "    image, scaling_factor = resize_image(image)\n",
    "    img = np.array(image)\n",
    "    pdb.set_trace()\n",
    "    print(img.shape)\n",
    "    \n",
    "    # Check if the image is already in grayscale\n",
    "    if len(img.shape) == 2:\n",
    "        gray = img\n",
    "    else:\n",
    "        gray = cv2.cvtColor(img, cv2.COLOR_BGR2GRAY)\n",
    "    \n",
    "    adaptive_threshold = cv2.adaptiveThreshold(\n",
    "        gray, 255, cv2.ADAPTIVE_THRESH_GAUSSIAN_C, cv2.THRESH_BINARY, 11, 2)\n",
    "    d = pytesseract.image_to_data(adaptive_threshold, output_type=pytesseract.Output.DICT)\n",
    "    n_boxes = len(d['level'])\n",
    "    text_lines = []\n",
    "    for i in range(n_boxes):\n",
    "        if int(d['conf'][i]) > 0:  # Filter out low confidence detections\n",
    "            (x, y, w, h) = (d['left'][i], d['top'][i], d['width'][i], d['height'][i])\n",
    "            # Adjust the coordinates according to the scaling factor\n",
    "            text_lines.append({\n",
    "                \"text\": d['text'][i],\n",
    "                \"location\": {\"x\": int(x / scaling_factor), \"y\": int(y / scaling_factor), \n",
    "                             \"width\": int(w / scaling_factor), \"height\": int(h / scaling_factor)}\n",
    "            })\n",
    "    return text_lines\n",
    "\n",
    "# Function to save output images and JSON\n",
    "def save_output(images: List[Image.Image], text_lines: List[List[Dict[str, Dict[str, int]]]], output_prefix: str) -> None:\n",
    "    output_dir = f\"{output_prefix}\"\n",
    "    clear_output_directory(output_dir)\n",
    "    \n",
    "    for i, image in enumerate(images):\n",
    "        img = np.array(image)\n",
    "        img_bgr = cv2.cvtColor(img, cv2.COLOR_RGB2BGR)  # Convert to BGR for OpenCV\n",
    "\n",
    "        for line in text_lines[i]:\n",
    "            x, y, w, h = line['location']['x'], line['location']['y'], line['location']['width'], line['location']['height']\n",
    "            cv2.rectangle(img_bgr, (x, y), (x + w, y + h), (0, 255, 0), 2)\n",
    "        \n",
    "        output_image_path = os.path.join(output_dir, f\"page_{i+1}.png\")\n",
    "        cv2.imwrite(output_image_path, img_bgr)\n",
    "    \n",
    "    output_json_path = f\"{output_prefix}_output.json\"\n",
    "    with open(output_json_path, 'w') as f:\n",
    "        json.dump(text_lines, f, indent=4)\n",
    "\n",
    "# Function to process the document and extract text lines\n",
    "def process_document(file_path: str, output_prefix: str) -> None:\n",
    "    images = preprocess_document(file_path)\n",
    "    all_text_lines = []\n",
    "    for image in images:\n",
    "        text_lines = extract_text_lines(image)\n",
    "        all_text_lines.append(text_lines)\n",
    "    save_output(images, all_text_lines, output_prefix)\n",
    "\n",
    "# Example usage\n",
    "file_path = \"/home/vanellope/Pictures/448646825_3690120521261666_1678735826989084568_n.png\"  # Change this to your file path\n",
    "output_prefix = 'output'  # Change this to your desired output prefix\n",
    "process_document(file_path, output_prefix)"
   ]
  },
  {
   "cell_type": "code",
   "execution_count": null,
   "id": "6ca4ac63-aac6-4530-9d5d-2b6740af6358",
   "metadata": {},
   "outputs": [],
   "source": []
  }
 ],
 "metadata": {
  "kernelspec": {
   "display_name": "Python 3 (ipykernel)",
   "language": "python",
   "name": "python3"
  },
  "language_info": {
   "codemirror_mode": {
    "name": "ipython",
    "version": 3
   },
   "file_extension": ".py",
   "mimetype": "text/x-python",
   "name": "python",
   "nbconvert_exporter": "python",
   "pygments_lexer": "ipython3",
   "version": "3.11.7"
  }
 },
 "nbformat": 4,
 "nbformat_minor": 5
}
