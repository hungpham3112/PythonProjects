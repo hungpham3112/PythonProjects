{
 "cells": [
  {
   "cell_type": "markdown",
   "id": "be451ff4",
   "metadata": {},
   "source": [
    "# Linear Regression"
   ]
  },
  {
   "cell_type": "markdown",
   "id": "edff5825",
   "metadata": {},
   "source": [
    "## Import libraries"
   ]
  },
  {
   "cell_type": "code",
   "execution_count": 5,
   "id": "da10e34f",
   "metadata": {},
   "outputs": [],
   "source": [
    "import numpy as np\n",
    "import pandas as pd"
   ]
  },
  {
   "cell_type": "markdown",
   "id": "00f34b4b",
   "metadata": {},
   "source": [
    "## Notation"
   ]
  },
  {
   "cell_type": "markdown",
   "id": "50384e11",
   "metadata": {},
   "source": [
    "- $x$ = 'input' variable or feature\n",
    "- $y$ = 'output' variable or target\n",
    "- $m$ = number of training examples\n",
    "- ($x, y$) = single training examples or observation\n",
    "- ($x_i, y_i$) = $i^{th}$ training examples\n",
    "- $\\hat{y}$ = the estimator of actual value y"
   ]
  },
  {
   "cell_type": "code",
   "execution_count": null,
   "id": "ba5615a9",
   "metadata": {},
   "outputs": [],
   "source": []
  }
 ],
 "metadata": {
  "kernelspec": {
   "display_name": "Python 3 (ipykernel)",
   "language": "python",
   "name": "python3"
  },
  "language_info": {
   "codemirror_mode": {
    "name": "ipython",
    "version": 3
   },
   "file_extension": ".py",
   "mimetype": "text/x-python",
   "name": "python",
   "nbconvert_exporter": "python",
   "pygments_lexer": "ipython3",
   "version": "3.11.3"
  }
 },
 "nbformat": 4,
 "nbformat_minor": 5
}
