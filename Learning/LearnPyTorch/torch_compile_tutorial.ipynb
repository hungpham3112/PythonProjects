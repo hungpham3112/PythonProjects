{
 "cells": [
  {
   "cell_type": "code",
   "execution_count": 1,
   "metadata": {},
   "outputs": [],
   "source": [
    "import os\n",
    "os.environ['CUDA_VISIBLE_DEVICES'] = '0'"
   ]
  },
  {
   "cell_type": "code",
   "execution_count": 2,
   "metadata": {
    "collapsed": false,
    "jupyter": {
     "outputs_hidden": false
    }
   },
   "outputs": [],
   "source": [
    "# For tips on running notebooks in Google Colab, see\n",
    "# https://pytorch.org/tutorials/beginner/colab\n",
    "%matplotlib inline"
   ]
  },
  {
   "cell_type": "markdown",
   "metadata": {},
   "source": [
    "\n",
    "# Introduction to ``torch.compile``\n",
    "**Author:** William Wen\n"
   ]
  },
  {
   "cell_type": "markdown",
   "metadata": {},
   "source": [
    "``torch.compile`` is the latest method to speed up your PyTorch code!\n",
    "``torch.compile`` makes PyTorch code run faster by\n",
    "JIT-compiling PyTorch code into optimized kernels,\n",
    "all while requiring minimal code changes.\n",
    "\n",
    "In this tutorial, we cover basic ``torch.compile`` usage,\n",
    "and demonstrate the advantages of ``torch.compile`` over\n",
    "previous PyTorch compiler solutions, such as\n",
    "[TorchScript](https://pytorch.org/docs/stable/jit.html)_ and\n",
    "[FX Tracing](https://pytorch.org/docs/stable/fx.html#torch.fx.symbolic_trace)_.\n",
    "\n",
    "**Contents**\n",
    "\n",
    "**Required pip Dependencies**\n",
    "\n",
    "- ``torch >= 2.0``\n",
    "- ``torchvision``\n",
    "- ``numpy``\n",
    "- ``scipy``\n",
    "- ``tabulate``\n",
    "\n"
   ]
  },
  {
   "cell_type": "markdown",
   "metadata": {},
   "source": [
    "NOTE: a modern NVIDIA GPU (H100, A100, or V100) is recommended for this tutorial in\n",
    "order to reproduce the speedup numbers shown below and documented elsewhere.\n",
    "\n"
   ]
  },
  {
   "cell_type": "code",
   "execution_count": 3,
   "metadata": {
    "collapsed": false,
    "jupyter": {
     "outputs_hidden": false
    }
   },
   "outputs": [
    {
     "name": "stdout",
     "output_type": "stream",
     "text": [
      "(8, 6)\n"
     ]
    },
    {
     "name": "stderr",
     "output_type": "stream",
     "text": [
      "/tmp/ipykernel_44172/2836601257.py:12: UserWarning: GPU is not NVIDIA V100, A100, or H100. Speedup numbers may be lower than expected.\n",
      "  warnings.warn(\n"
     ]
    }
   ],
   "source": [
    "import torch\n",
    "import warnings\n",
    "\n",
    "gpu_ok = False\n",
    "if torch.cuda.is_available():\n",
    "    device_cap = torch.cuda.get_device_capability()\n",
    "    print(device_cap)\n",
    "    if device_cap in ((7, 0), (8, 0), (9, 0)):\n",
    "        gpu_ok = True\n",
    "\n",
    "if not gpu_ok:\n",
    "    warnings.warn(\n",
    "        \"GPU is not NVIDIA V100, A100, or H100. Speedup numbers may be lower \"\n",
    "        \"than expected.\"\n",
    "    )"
   ]
  },
  {
   "cell_type": "markdown",
   "metadata": {},
   "source": [
    "## Basic Usage\n",
    "\n",
    "``torch.compile`` is included in the latest PyTorch.\n",
    "Running TorchInductor on GPU requires Triton, which is included with the PyTorch 2.0 nightly\n",
    "binary. If Triton is still missing, try installing ``torchtriton`` via pip\n",
    "(``pip install torchtriton --extra-index-url \"https://download.pytorch.org/whl/nightly/cu117\"``\n",
    "for CUDA 11.7).\n",
    "\n",
    "Arbitrary Python functions can be optimized by passing the callable to\n",
    "``torch.compile``. We can then call the returned optimized\n",
    "function in place of the original function.\n",
    "\n"
   ]
  },
  {
   "cell_type": "code",
   "execution_count": 4,
   "metadata": {
    "collapsed": false,
    "jupyter": {
     "outputs_hidden": false
    }
   },
   "outputs": [
    {
     "name": "stdout",
     "output_type": "stream",
     "text": [
      "tensor([[-5.6378e-01,  1.2836e+00, -1.0063e+00, -1.0048e-01, -1.5855e-01,\n",
      "          1.2504e+00,  1.5489e+00,  1.3908e+00,  8.6342e-01,  7.7401e-01],\n",
      "        [-2.8800e-01,  8.1421e-01,  1.4728e+00,  1.0835e-01,  8.5950e-01,\n",
      "         -7.0951e-02,  1.2286e-03, -4.3115e-01, -8.0697e-01, -7.3548e-02],\n",
      "        [ 1.8580e+00,  8.7403e-03, -6.1277e-01, -4.9156e-01,  1.5231e+00,\n",
      "         -1.6085e+00,  1.7979e+00,  5.7933e-01,  1.4469e+00,  1.4111e+00],\n",
      "        [ 1.4441e+00,  1.4408e+00,  1.6808e-01, -7.2325e-01,  1.1878e+00,\n",
      "          1.0554e+00, -1.5067e-01,  6.3707e-01, -2.0760e-01,  1.0917e+00],\n",
      "        [ 9.5867e-01,  1.9794e+00,  1.2888e+00,  1.2698e+00,  5.0365e-01,\n",
      "          5.0774e-01,  5.5544e-02,  9.8845e-01,  1.0738e+00,  1.2924e+00],\n",
      "        [ 1.2953e+00, -3.5014e-01, -8.0273e-01, -6.7772e-01,  1.9081e+00,\n",
      "         -4.9449e-03,  1.4697e+00,  8.3228e-02,  4.7851e-01,  1.2125e+00],\n",
      "        [ 1.5045e+00,  1.4964e+00, -2.6385e-01,  1.3657e+00,  1.2996e+00,\n",
      "          1.7351e+00,  1.6556e+00,  2.7343e-01,  1.9908e+00,  1.5263e+00],\n",
      "        [ 1.1173e+00, -3.4509e-02,  1.7560e+00,  2.7192e-01,  5.9569e-01,\n",
      "          1.8231e+00,  1.3595e+00,  5.9377e-01,  8.5977e-01,  1.4748e+00],\n",
      "        [-4.3057e-01,  1.4453e+00,  1.0779e+00,  2.6524e-01,  5.7216e-01,\n",
      "          9.9517e-01,  1.5135e+00,  1.7275e-01,  5.6679e-01,  1.4680e+00],\n",
      "        [ 1.6205e+00,  2.4917e-01,  2.8233e-01,  5.0045e-01,  9.8717e-01,\n",
      "          8.6296e-02,  4.2477e-01, -1.2450e+00, -2.1492e-01,  1.7100e+00]])\n"
     ]
    }
   ],
   "source": [
    "def foo(x, y):\n",
    "    a = torch.sin(x)\n",
    "    b = torch.cos(y)\n",
    "    return a + b\n",
    "opt_foo1 = torch.compile(foo)\n",
    "print(opt_foo1(torch.randn(10, 10), torch.randn(10, 10)))"
   ]
  },
  {
   "cell_type": "markdown",
   "metadata": {},
   "source": [
    "Alternatively, we can decorate the function.\n",
    "\n"
   ]
  },
  {
   "cell_type": "code",
   "execution_count": 5,
   "metadata": {
    "collapsed": false,
    "jupyter": {
     "outputs_hidden": false
    }
   },
   "outputs": [
    {
     "name": "stdout",
     "output_type": "stream",
     "text": [
      "tensor([[ 0.7100,  1.4268,  1.6995,  0.3673, -0.0242,  0.5008,  1.1849, -0.0344,\n",
      "          1.2291, -0.3591],\n",
      "        [ 0.3391,  0.9448, -1.4141, -0.1750,  1.9362,  1.9697, -0.0164,  0.1766,\n",
      "          0.5867,  1.4973],\n",
      "        [ 1.3731,  1.8254,  1.1368,  1.4214,  1.8714, -1.2382,  1.0648,  0.2109,\n",
      "          1.0688,  1.1489],\n",
      "        [ 0.9088, -0.4864,  1.3935,  1.9034,  0.2980, -0.3237,  1.6973,  0.9423,\n",
      "          0.2022,  0.2463],\n",
      "        [ 0.8164,  0.4968,  1.3048,  1.7325,  1.0092,  1.5822,  0.1893, -0.2870,\n",
      "         -0.2509, -1.2097],\n",
      "        [ 0.4151,  1.3024, -0.0914,  0.2478, -0.0190,  1.8713,  0.7877,  1.5712,\n",
      "          1.4208,  1.8738],\n",
      "        [ 0.1697, -0.5418,  0.4589,  0.0186, -0.4758, -0.0195,  1.5589, -0.0447,\n",
      "         -0.7707,  1.3753],\n",
      "        [-0.1523,  0.3960,  0.8981,  0.2410,  0.1351,  1.7552, -0.7020,  1.5370,\n",
      "          0.2438,  0.3210],\n",
      "        [-0.2068,  1.4767,  1.8646,  0.2873, -0.0724,  1.2453,  1.8641, -0.1732,\n",
      "         -0.4352, -0.0894],\n",
      "        [ 0.5164, -0.1719,  1.5802,  0.3244,  0.9126, -0.2118, -0.3716,  1.2068,\n",
      "         -0.6496,  0.4584]])\n"
     ]
    }
   ],
   "source": [
    "@torch.compile\n",
    "def opt_foo2(x, y):\n",
    "    a = torch.sin(x)\n",
    "    b = torch.cos(y)\n",
    "    return a + b\n",
    "print(opt_foo2(torch.randn(10, 10), torch.randn(10, 10)))"
   ]
  },
  {
   "cell_type": "markdown",
   "metadata": {},
   "source": [
    "We can also optimize ``torch.nn.Module`` instances.\n",
    "\n"
   ]
  },
  {
   "cell_type": "code",
   "execution_count": 6,
   "metadata": {
    "collapsed": false,
    "jupyter": {
     "outputs_hidden": false
    }
   },
   "outputs": [
    {
     "name": "stdout",
     "output_type": "stream",
     "text": [
      "tensor([[0.0000, 0.2028, 0.0000, 0.0000, 0.0000, 0.3608, 0.0000, 0.0000, 0.1197,\n",
      "         0.0000],\n",
      "        [0.0000, 0.9833, 0.7477, 0.8377, 0.2258, 0.1237, 0.7125, 0.1590, 0.0000,\n",
      "         0.5059],\n",
      "        [0.0000, 0.0000, 0.1076, 0.0000, 0.0051, 0.0000, 0.0000, 0.3113, 0.0000,\n",
      "         0.2658],\n",
      "        [0.5126, 0.1726, 0.4858, 0.0000, 0.4324, 0.4479, 0.4244, 0.0000, 0.0000,\n",
      "         0.8051],\n",
      "        [0.0000, 0.6025, 0.0000, 0.0000, 0.0000, 0.0000, 0.0000, 0.3658, 0.0000,\n",
      "         0.0000],\n",
      "        [0.0000, 0.2222, 0.3405, 1.4069, 0.0000, 0.5194, 0.1953, 0.0000, 0.0000,\n",
      "         0.0000],\n",
      "        [0.1542, 0.6048, 0.6657, 0.0000, 0.0217, 0.2964, 0.5083, 0.1983, 0.0000,\n",
      "         0.8327],\n",
      "        [1.1459, 0.7917, 0.8754, 0.0000, 0.1485, 0.0000, 0.2702, 0.0000, 0.0000,\n",
      "         0.0000],\n",
      "        [0.7501, 0.0000, 1.3762, 0.1484, 0.6177, 0.0000, 0.0000, 0.0000, 0.6045,\n",
      "         0.1895],\n",
      "        [0.2181, 0.1413, 0.0000, 0.0000, 0.0000, 0.0000, 0.6448, 0.4287, 1.1657,\n",
      "         -0.0000]], grad_fn=<CompiledFunctionBackward>)\n"
     ]
    }
   ],
   "source": [
    "class MyModule(torch.nn.Module):\n",
    "    def __init__(self):\n",
    "        super().__init__()\n",
    "        self.lin = torch.nn.Linear(100, 10)\n",
    "\n",
    "    def forward(self, x):\n",
    "        return torch.nn.functional.relu(self.lin(x))\n",
    "\n",
    "mod = MyModule()\n",
    "opt_mod = torch.compile(mod)\n",
    "print(opt_mod(torch.randn(10, 100)))"
   ]
  },
  {
   "cell_type": "markdown",
   "metadata": {},
   "source": [
    "## Demonstrating Speedups\n",
    "\n",
    "Let's now demonstrate that using ``torch.compile`` can speed\n",
    "up real models. We will compare standard eager mode and\n",
    "``torch.compile`` by evaluating and training a ``torchvision`` model on random data.\n",
    "\n",
    "Before we start, we need to define some utility functions.\n",
    "\n"
   ]
  },
  {
   "cell_type": "code",
   "execution_count": 7,
   "metadata": {
    "collapsed": false,
    "jupyter": {
     "outputs_hidden": false
    }
   },
   "outputs": [],
   "source": [
    "# Returns the result of running `fn()` and the time it took for `fn()` to run,\n",
    "# in seconds. We use CUDA events and synchronization for the most accurate\n",
    "# measurements.\n",
    "def timed(fn):\n",
    "    start = torch.cuda.Event(enable_timing=True)\n",
    "    end = torch.cuda.Event(enable_timing=True)\n",
    "    start.record()\n",
    "    result = fn()\n",
    "    end.record()\n",
    "    torch.cuda.synchronize()\n",
    "    return result, start.elapsed_time(end) / 1000\n",
    "\n",
    "# Generates random input and targets data for the model, where `b` is\n",
    "# batch size.\n",
    "def generate_data(b):\n",
    "    return (\n",
    "        torch.randn(b, 3, 128, 128).to(torch.float32).cuda(),\n",
    "        torch.randint(1000, (b,)).cuda(),\n",
    "    )\n",
    "\n",
    "N_ITERS = 10\n",
    "\n",
    "from torchvision.models import densenet121\n",
    "def init_model():\n",
    "    return densenet121().to(torch.float32).cuda()"
   ]
  },
  {
   "cell_type": "markdown",
   "metadata": {},
   "source": [
    "First, let's compare inference.\n",
    "\n",
    "Note that in the call to ``torch.compile``, we have have the additional\n",
    "``mode`` argument, which we will discuss below.\n",
    "\n"
   ]
  },
  {
   "cell_type": "code",
   "execution_count": 8,
   "metadata": {
    "collapsed": false,
    "jupyter": {
     "outputs_hidden": false
    }
   },
   "outputs": [
    {
     "name": "stdout",
     "output_type": "stream",
     "text": [
      "eager: 0.33040280151367185\n"
     ]
    },
    {
     "name": "stderr",
     "output_type": "stream",
     "text": [
      "/home/vanellope/miniforge3/envs/School/lib/python3.11/site-packages/torch/_inductor/compile_fx.py:135: UserWarning: TensorFloat32 tensor cores for float32 matrix multiplication available but not enabled. Consider setting `torch.set_float32_matmul_precision('high')` for better performance.\n",
      "  warnings.warn(\n"
     ]
    },
    {
     "name": "stdout",
     "output_type": "stream",
     "text": [
      "compile: 32.55133984375\n"
     ]
    }
   ],
   "source": [
    "model = init_model()\n",
    "\n",
    "# Reset since we are using a different mode.\n",
    "import torch._dynamo\n",
    "torch._dynamo.reset()\n",
    "\n",
    "model_opt = torch.compile(model, mode=\"reduce-overhead\")\n",
    "\n",
    "inp = generate_data(16)[0]\n",
    "with torch.no_grad():\n",
    "    print(\"eager:\", timed(lambda: model(inp))[1])\n",
    "    print(\"compile:\", timed(lambda: model_opt(inp))[1])"
   ]
  },
  {
   "cell_type": "markdown",
   "metadata": {},
   "source": [
    "Notice that ``torch.compile`` takes a lot longer to complete\n",
    "compared to eager. This is because ``torch.compile`` compiles\n",
    "the model into optimized kernels as it executes. In our example, the\n",
    "structure of the model doesn't change, and so recompilation is not\n",
    "needed. So if we run our optimized model several more times, we should\n",
    "see a significant improvement compared to eager.\n",
    "\n"
   ]
  },
  {
   "cell_type": "code",
   "execution_count": 9,
   "metadata": {
    "collapsed": false,
    "jupyter": {
     "outputs_hidden": false
    }
   },
   "outputs": [
    {
     "name": "stdout",
     "output_type": "stream",
     "text": [
      "eager eval time 0: 0.015215616226196289\n",
      "eager eval time 1: 0.014914560317993163\n",
      "eager eval time 2: 0.015359999656677246\n",
      "eager eval time 3: 0.014776320457458495\n",
      "eager eval time 4: 0.014797696113586426\n",
      "eager eval time 5: 0.014419808387756347\n",
      "eager eval time 6: 0.012915871620178222\n",
      "eager eval time 7: 0.012894047737121581\n",
      "eager eval time 8: 0.017977344512939454\n",
      "eager eval time 9: 0.017493152618408205\n",
      "~~~~~~~~~~\n",
      "compile eval time 0: 0.6544886474609375\n",
      "compile eval time 1: 0.010012672424316407\n",
      "compile eval time 2: 0.010078207969665527\n",
      "compile eval time 3: 0.010185728073120117\n",
      "compile eval time 4: 0.010267647743225097\n",
      "compile eval time 5: 0.01029100799560547\n",
      "compile eval time 6: 0.010919936180114746\n",
      "compile eval time 7: 0.010456000328063965\n",
      "compile eval time 8: 0.01011302375793457\n",
      "compile eval time 9: 0.010038271903991699\n",
      "~~~~~~~~~~\n",
      "(eval) eager median: 0.014856128215789795, compile median: 0.010226687908172608, speedup: 1.452682271052546x\n",
      "~~~~~~~~~~\n"
     ]
    }
   ],
   "source": [
    "eager_times = []\n",
    "for i in range(N_ITERS):\n",
    "    inp = generate_data(16)[0]\n",
    "    with torch.no_grad():\n",
    "        _, eager_time = timed(lambda: model(inp))\n",
    "    eager_times.append(eager_time)\n",
    "    print(f\"eager eval time {i}: {eager_time}\")\n",
    "\n",
    "print(\"~\" * 10)\n",
    "\n",
    "compile_times = []\n",
    "for i in range(N_ITERS):\n",
    "    inp = generate_data(16)[0]\n",
    "    with torch.no_grad():\n",
    "        _, compile_time = timed(lambda: model_opt(inp))\n",
    "    compile_times.append(compile_time)\n",
    "    print(f\"compile eval time {i}: {compile_time}\")\n",
    "print(\"~\" * 10)\n",
    "\n",
    "import numpy as np\n",
    "eager_med = np.median(eager_times)\n",
    "compile_med = np.median(compile_times)\n",
    "speedup = eager_med / compile_med\n",
    "assert(speedup > 1)\n",
    "print(f\"(eval) eager median: {eager_med}, compile median: {compile_med}, speedup: {speedup}x\")\n",
    "print(\"~\" * 10)"
   ]
  },
  {
   "cell_type": "markdown",
   "metadata": {},
   "source": [
    "And indeed, we can see that running our model with ``torch.compile``\n",
    "results in a significant speedup. Speedup mainly comes from reducing Python overhead and\n",
    "GPU read/writes, and so the observed speedup may vary on factors such as model\n",
    "architecture and batch size. For example, if a model's architecture is simple\n",
    "and the amount of data is large, then the bottleneck would be\n",
    "GPU compute and the observed speedup may be less significant.\n",
    "\n",
    "You may also see different speedup results depending on the chosen ``mode``\n",
    "argument. The ``\"reduce-overhead\"`` mode uses CUDA graphs to further reduce\n",
    "the overhead of Python. For your own models,\n",
    "you may need to experiment with different modes to maximize speedup. You can\n",
    "read more about modes [here](https://pytorch.org/get-started/pytorch-2.0/#user-experience)_.\n",
    "\n",
    "You may might also notice that the second time we run our model with ``torch.compile`` is significantly\n",
    "slower than the other runs, although it is much faster than the first run. This is because the ``\"reduce-overhead\"``\n",
    "mode runs a few warm-up iterations for CUDA graphs.\n",
    "\n",
    "For general PyTorch benchmarking, you can try using ``torch.utils.benchmark`` instead of the ``timed``\n",
    "function we defined above. We wrote our own timing function in this tutorial to show\n",
    "``torch.compile``'s compilation latency.\n",
    "\n",
    "Now, let's consider comparing training.\n",
    "\n"
   ]
  },
  {
   "cell_type": "code",
   "execution_count": 10,
   "metadata": {
    "collapsed": false,
    "jupyter": {
     "outputs_hidden": false
    }
   },
   "outputs": [
    {
     "name": "stdout",
     "output_type": "stream",
     "text": [
      "eager train time 0: 0.6629071044921875\n",
      "eager train time 1: 0.047333377838134766\n",
      "eager train time 2: 0.043850624084472656\n",
      "eager train time 3: 0.043911167144775394\n",
      "eager train time 4: 0.04538675308227539\n",
      "eager train time 5: 0.046142528533935544\n",
      "eager train time 6: 0.0517283821105957\n",
      "eager train time 7: 0.060922878265380856\n",
      "eager train time 8: 0.04821811294555664\n",
      "eager train time 9: 0.046341121673583986\n",
      "~~~~~~~~~~\n"
     ]
    },
    {
     "name": "stderr",
     "output_type": "stream",
     "text": [
      "skipping cudagraphs due to input mutation\n"
     ]
    },
    {
     "name": "stdout",
     "output_type": "stream",
     "text": [
      "compile train time 0: 239.551015625\n",
      "compile train time 1: 2.111662109375\n",
      "compile train time 2: 0.046311424255371096\n",
      "compile train time 3: 0.04087295913696289\n",
      "compile train time 4: 0.04038326263427734\n",
      "compile train time 5: 0.03729923248291016\n",
      "compile train time 6: 0.03639683151245117\n",
      "compile train time 7: 0.03693875122070313\n",
      "compile train time 8: 0.03608876800537109\n",
      "compile train time 9: 0.0361409912109375\n",
      "~~~~~~~~~~\n",
      "(train) eager median: 0.04683724975585937, compile median: 0.03884124755859375, speedup: 1.2058636810056962x\n",
      "~~~~~~~~~~\n"
     ]
    }
   ],
   "source": [
    "model = init_model()\n",
    "opt = torch.optim.Adam(model.parameters())\n",
    "\n",
    "def train(mod, data):\n",
    "    opt.zero_grad(True)\n",
    "    pred = mod(data[0])\n",
    "    loss = torch.nn.CrossEntropyLoss()(pred, data[1])\n",
    "    loss.backward()\n",
    "    opt.step()\n",
    "\n",
    "eager_times = []\n",
    "for i in range(N_ITERS):\n",
    "    inp = generate_data(16)\n",
    "    _, eager_time = timed(lambda: train(model, inp))\n",
    "    eager_times.append(eager_time)\n",
    "    print(f\"eager train time {i}: {eager_time}\")\n",
    "print(\"~\" * 10)\n",
    "\n",
    "model = init_model()\n",
    "opt = torch.optim.Adam(model.parameters())\n",
    "train_opt = torch.compile(train, mode=\"reduce-overhead\")\n",
    "\n",
    "compile_times = []\n",
    "for i in range(N_ITERS):\n",
    "    inp = generate_data(16)\n",
    "    _, compile_time = timed(lambda: train_opt(model, inp))\n",
    "    compile_times.append(compile_time)\n",
    "    print(f\"compile train time {i}: {compile_time}\")\n",
    "print(\"~\" * 10)\n",
    "\n",
    "eager_med = np.median(eager_times)\n",
    "compile_med = np.median(compile_times)\n",
    "speedup = eager_med / compile_med\n",
    "assert(speedup > 1)\n",
    "print(f\"(train) eager median: {eager_med}, compile median: {compile_med}, speedup: {speedup}x\")\n",
    "print(\"~\" * 10)"
   ]
  },
  {
   "cell_type": "markdown",
   "metadata": {},
   "source": [
    "Again, we can see that ``torch.compile`` takes longer in the first\n",
    "iteration, as it must compile the model, but in subsequent iterations, we see\n",
    "significant speedups compared to eager.\n",
    "\n",
    "We remark that the speedup numbers presented in this tutorial are for\n",
    "demonstration purposes only. Official speedup values can be seen at the\n",
    "[TorchInductor performance dashboard](https://hud.pytorch.org/benchmark/compilers)_.\n",
    "\n"
   ]
  },
  {
   "cell_type": "markdown",
   "metadata": {},
   "source": [
    "## Comparison to TorchScript and FX Tracing\n",
    "\n",
    "We have seen that ``torch.compile`` can speed up PyTorch code.\n",
    "Why else should we use ``torch.compile`` over existing PyTorch\n",
    "compiler solutions, such as TorchScript or FX Tracing? Primarily, the\n",
    "advantage of ``torch.compile`` lies in its ability to handle\n",
    "arbitrary Python code with minimal changes to existing code.\n",
    "\n",
    "One case that ``torch.compile`` can handle that other compiler\n",
    "solutions struggle with is data-dependent control flow (the\n",
    "``if x.sum() < 0:`` line below).\n",
    "\n"
   ]
  },
  {
   "cell_type": "code",
   "execution_count": 11,
   "metadata": {
    "collapsed": false,
    "jupyter": {
     "outputs_hidden": false
    }
   },
   "outputs": [],
   "source": [
    "def f1(x, y):\n",
    "    if x.sum() < 0:\n",
    "        return -y\n",
    "    return y\n",
    "\n",
    "# Test that `fn1` and `fn2` return the same result, given\n",
    "# the same arguments `args`. Typically, `fn1` will be an eager function\n",
    "# while `fn2` will be a compiled function (torch.compile, TorchScript, or FX graph).\n",
    "def test_fns(fn1, fn2, args):\n",
    "    out1 = fn1(*args)\n",
    "    out2 = fn2(*args)\n",
    "    return torch.allclose(out1, out2)\n",
    "\n",
    "inp1 = torch.randn(5, 5)\n",
    "inp2 = torch.randn(5, 5)"
   ]
  },
  {
   "cell_type": "markdown",
   "metadata": {},
   "source": [
    "TorchScript tracing ``f1`` results in\n",
    "silently incorrect results, since only the actual control flow path\n",
    "is traced.\n",
    "\n"
   ]
  },
  {
   "cell_type": "code",
   "execution_count": 12,
   "metadata": {
    "collapsed": false,
    "jupyter": {
     "outputs_hidden": false
    }
   },
   "outputs": [
    {
     "name": "stdout",
     "output_type": "stream",
     "text": [
      "traced 1, 1: True\n",
      "traced 1, 2: False\n"
     ]
    },
    {
     "name": "stderr",
     "output_type": "stream",
     "text": [
      "/tmp/ipykernel_44172/4005623017.py:2: TracerWarning: Converting a tensor to a Python boolean might cause the trace to be incorrect. We can't record the data flow of Python values, so this value will be treated as a constant in the future. This means that the trace might not generalize to other inputs!\n",
      "  if x.sum() < 0:\n"
     ]
    }
   ],
   "source": [
    "traced_f1 = torch.jit.trace(f1, (inp1, inp2))\n",
    "print(\"traced 1, 1:\", test_fns(f1, traced_f1, (inp1, inp2)))\n",
    "print(\"traced 1, 2:\", test_fns(f1, traced_f1, (-inp1, inp2)))"
   ]
  },
  {
   "cell_type": "markdown",
   "metadata": {},
   "source": [
    "FX tracing ``f1`` results in an error due to the presence of\n",
    "data-dependent control flow.\n",
    "\n"
   ]
  },
  {
   "cell_type": "code",
   "execution_count": 13,
   "metadata": {
    "collapsed": false,
    "jupyter": {
     "outputs_hidden": false
    }
   },
   "outputs": [
    {
     "name": "stderr",
     "output_type": "stream",
     "text": [
      "Traceback (most recent call last):\n",
      "  File \"/tmp/ipykernel_44172/1451191637.py\", line 3, in <module>\n",
      "    torch.fx.symbolic_trace(f1)\n",
      "  File \"/home/vanellope/miniforge3/envs/School/lib/python3.11/site-packages/torch/fx/_symbolic_trace.py\", line 1150, in symbolic_trace\n",
      "    graph = tracer.trace(root, concrete_args)\n",
      "            ^^^^^^^^^^^^^^^^^^^^^^^^^^^^^^^^^\n",
      "  File \"/home/vanellope/miniforge3/envs/School/lib/python3.11/site-packages/torch/_dynamo/eval_frame.py\", line 328, in _fn\n",
      "    return fn(*args, **kwargs)\n",
      "           ^^^^^^^^^^^^^^^^^^^\n",
      "  File \"/home/vanellope/miniforge3/envs/School/lib/python3.11/site-packages/torch/_dynamo/external_utils.py\", line 17, in inner\n",
      "    return fn(*args, **kwargs)\n",
      "           ^^^^^^^^^^^^^^^^^^^\n",
      "  File \"/home/vanellope/miniforge3/envs/School/lib/python3.11/site-packages/torch/fx/_symbolic_trace.py\", line 817, in trace\n",
      "    (self.create_arg(fn(*args)),),\n",
      "                     ^^^^^^^^^\n",
      "  File \"/tmp/ipykernel_44172/4005623017.py\", line 2, in f1\n",
      "    if x.sum() < 0:\n",
      "       ^^^^^^^^^^^\n",
      "  File \"/home/vanellope/miniforge3/envs/School/lib/python3.11/site-packages/torch/fx/proxy.py\", line 437, in __bool__\n",
      "    return self.tracer.to_bool(self)\n",
      "           ^^^^^^^^^^^^^^^^^^^^^^^^^\n",
      "  File \"/home/vanellope/miniforge3/envs/School/lib/python3.11/site-packages/torch/fx/proxy.py\", line 300, in to_bool\n",
      "    raise TraceError('symbolically traced variables cannot be used as inputs to control flow')\n",
      "torch.fx.proxy.TraceError: symbolically traced variables cannot be used as inputs to control flow\n"
     ]
    }
   ],
   "source": [
    "import traceback as tb\n",
    "try:\n",
    "    torch.fx.symbolic_trace(f1)\n",
    "except:\n",
    "    tb.print_exc()"
   ]
  },
  {
   "cell_type": "markdown",
   "metadata": {},
   "source": [
    "If we provide a value for ``x`` as we try to FX trace ``f1``, then\n",
    "we run into the same problem as TorchScript tracing, as the data-dependent\n",
    "control flow is removed in the traced function.\n",
    "\n"
   ]
  },
  {
   "cell_type": "code",
   "execution_count": 14,
   "metadata": {
    "collapsed": false,
    "jupyter": {
     "outputs_hidden": false
    }
   },
   "outputs": [
    {
     "name": "stdout",
     "output_type": "stream",
     "text": [
      "fx 1, 1: True\n",
      "fx 1, 2: False\n"
     ]
    },
    {
     "name": "stderr",
     "output_type": "stream",
     "text": [
      "/home/vanellope/miniforge3/envs/School/lib/python3.11/site-packages/torch/fx/_symbolic_trace.py:634: UserWarning: Was not able to add assertion to guarantee correct input x to specialized function. It is up to the user to make sure that your inputs match the inputs you specialized the function with.\n",
      "  warnings.warn(\n"
     ]
    }
   ],
   "source": [
    "fx_f1 = torch.fx.symbolic_trace(f1, concrete_args={\"x\": inp1})\n",
    "print(\"fx 1, 1:\", test_fns(f1, fx_f1, (inp1, inp2)))\n",
    "print(\"fx 1, 2:\", test_fns(f1, fx_f1, (-inp1, inp2)))"
   ]
  },
  {
   "cell_type": "markdown",
   "metadata": {},
   "source": [
    "Now we can see that ``torch.compile`` correctly handles\n",
    "data-dependent control flow.\n",
    "\n"
   ]
  },
  {
   "cell_type": "code",
   "execution_count": 15,
   "metadata": {
    "collapsed": false,
    "jupyter": {
     "outputs_hidden": false
    }
   },
   "outputs": [
    {
     "name": "stdout",
     "output_type": "stream",
     "text": [
      "compile 1, 1: True\n",
      "compile 1, 2: True\n",
      "~~~~~~~~~~\n"
     ]
    }
   ],
   "source": [
    "# Reset since we are using a different mode.\n",
    "torch._dynamo.reset()\n",
    "\n",
    "compile_f1 = torch.compile(f1)\n",
    "print(\"compile 1, 1:\", test_fns(f1, compile_f1, (inp1, inp2)))\n",
    "print(\"compile 1, 2:\", test_fns(f1, compile_f1, (-inp1, inp2)))\n",
    "print(\"~\" * 10)"
   ]
  },
  {
   "cell_type": "markdown",
   "metadata": {},
   "source": [
    "TorchScript scripting can handle data-dependent control flow, but this\n",
    "solution comes with its own set of problems. Namely, TorchScript scripting\n",
    "can require major code changes and will raise errors when unsupported Python\n",
    "is used.\n",
    "\n",
    "In the example below, we forget TorchScript type annotations and we receive\n",
    "a TorchScript error because the input type for argument ``y``, an ``int``,\n",
    "does not match with the default argument type, ``torch.Tensor``.\n",
    "\n"
   ]
  },
  {
   "cell_type": "code",
   "execution_count": 16,
   "metadata": {
    "collapsed": false,
    "jupyter": {
     "outputs_hidden": false
    }
   },
   "outputs": [
    {
     "name": "stderr",
     "output_type": "stream",
     "text": [
      "Traceback (most recent call last):\n",
      "  File \"/tmp/ipykernel_44172/895162831.py\", line 9, in <module>\n",
      "    script_f2(inp1, inp2)\n",
      "RuntimeError: f2() Expected a value of type 'Tensor (inferred)' for argument 'y' but instead found type 'int'.\n",
      "Inferred 'y' to be of type 'Tensor' because it was not annotated with an explicit type.\n",
      "Position: 1\n",
      "Value: 3\n",
      "Declaration: f2(Tensor x, Tensor y) -> Tensor\n",
      "Cast error details: Unable to cast 3 to Tensor\n"
     ]
    }
   ],
   "source": [
    "def f2(x, y):\n",
    "    return x + y\n",
    "\n",
    "inp1 = torch.randn(5, 5)\n",
    "inp2 = 3\n",
    "\n",
    "script_f2 = torch.jit.script(f2)\n",
    "try:\n",
    "    script_f2(inp1, inp2)\n",
    "except:\n",
    "    tb.print_exc()"
   ]
  },
  {
   "cell_type": "markdown",
   "metadata": {},
   "source": [
    "However, ``torch.compile`` is easily able to handle ``f2``.\n",
    "\n"
   ]
  },
  {
   "cell_type": "code",
   "execution_count": 17,
   "metadata": {
    "collapsed": false,
    "jupyter": {
     "outputs_hidden": false
    }
   },
   "outputs": [
    {
     "name": "stdout",
     "output_type": "stream",
     "text": [
      "compile 2: True\n",
      "~~~~~~~~~~\n"
     ]
    }
   ],
   "source": [
    "compile_f2 = torch.compile(f2)\n",
    "print(\"compile 2:\", test_fns(f2, compile_f2, (inp1, inp2)))\n",
    "print(\"~\" * 10)"
   ]
  },
  {
   "cell_type": "markdown",
   "metadata": {},
   "source": [
    "Another case that ``torch.compile`` handles well compared to\n",
    "previous compilers solutions is the usage of non-PyTorch functions.\n",
    "\n"
   ]
  },
  {
   "cell_type": "code",
   "execution_count": 18,
   "metadata": {
    "collapsed": false,
    "jupyter": {
     "outputs_hidden": false
    }
   },
   "outputs": [
    {
     "ename": "ModuleNotFoundError",
     "evalue": "No module named 'scipy'",
     "output_type": "error",
     "traceback": [
      "\u001b[0;31m---------------------------------------------------------------------------\u001b[0m",
      "\u001b[0;31mModuleNotFoundError\u001b[0m                       Traceback (most recent call last)",
      "Cell \u001b[0;32mIn[18], line 1\u001b[0m\n\u001b[0;32m----> 1\u001b[0m \u001b[38;5;28;01mimport\u001b[39;00m \u001b[38;5;21;01mscipy\u001b[39;00m\n\u001b[1;32m      2\u001b[0m \u001b[38;5;28;01mdef\u001b[39;00m \u001b[38;5;21mf3\u001b[39m(x):\n\u001b[1;32m      3\u001b[0m     x \u001b[38;5;241m=\u001b[39m x \u001b[38;5;241m*\u001b[39m \u001b[38;5;241m2\u001b[39m\n",
      "\u001b[0;31mModuleNotFoundError\u001b[0m: No module named 'scipy'"
     ]
    }
   ],
   "source": [
    "import scipy\n",
    "def f3(x):\n",
    "    x = x * 2\n",
    "    x = scipy.fft.dct(x.numpy())\n",
    "    x = torch.from_numpy(x)\n",
    "    x = x * 2\n",
    "    return x"
   ]
  },
  {
   "cell_type": "markdown",
   "metadata": {},
   "source": [
    "TorchScript tracing treats results from non-PyTorch function calls\n",
    "as constants, and so our results can be silently wrong.\n",
    "\n"
   ]
  },
  {
   "cell_type": "code",
   "execution_count": null,
   "metadata": {
    "collapsed": false,
    "jupyter": {
     "outputs_hidden": false
    }
   },
   "outputs": [],
   "source": [
    "inp1 = torch.randn(5, 5)\n",
    "inp2 = torch.randn(5, 5)\n",
    "traced_f3 = torch.jit.trace(f3, (inp1,))\n",
    "print(\"traced 3:\", test_fns(f3, traced_f3, (inp2,)))"
   ]
  },
  {
   "cell_type": "markdown",
   "metadata": {},
   "source": [
    "TorchScript scripting and FX tracing disallow non-PyTorch function calls.\n",
    "\n"
   ]
  },
  {
   "cell_type": "code",
   "execution_count": null,
   "metadata": {
    "collapsed": false,
    "jupyter": {
     "outputs_hidden": false
    }
   },
   "outputs": [],
   "source": [
    "try:\n",
    "    torch.jit.script(f3)\n",
    "except:\n",
    "    tb.print_exc()\n",
    "\n",
    "try:\n",
    "    torch.fx.symbolic_trace(f3)\n",
    "except:\n",
    "    tb.print_exc()"
   ]
  },
  {
   "cell_type": "markdown",
   "metadata": {},
   "source": [
    "In comparison, ``torch.compile`` is easily able to handle\n",
    "the non-PyTorch function call.\n",
    "\n"
   ]
  },
  {
   "cell_type": "code",
   "execution_count": null,
   "metadata": {
    "collapsed": false,
    "jupyter": {
     "outputs_hidden": false
    }
   },
   "outputs": [],
   "source": [
    "compile_f3 = torch.compile(f3)\n",
    "print(\"compile 3:\", test_fns(f3, compile_f3, (inp2,)))"
   ]
  },
  {
   "cell_type": "markdown",
   "metadata": {},
   "source": [
    "## TorchDynamo and FX Graphs\n",
    "\n",
    "One important component of ``torch.compile`` is TorchDynamo.\n",
    "TorchDynamo is responsible for JIT compiling arbitrary Python code into\n",
    "[FX graphs](https://pytorch.org/docs/stable/fx.html#torch.fx.Graph)_, which can\n",
    "then be further optimized. TorchDynamo extracts FX graphs by analyzing Python bytecode\n",
    "during runtime and detecting calls to PyTorch operations.\n",
    "\n",
    "Normally, TorchInductor, another component of ``torch.compile``,\n",
    "further compiles the FX graphs into optimized kernels,\n",
    "but TorchDynamo allows for different backends to be used. In order to inspect\n",
    "the FX graphs that TorchDynamo outputs, let us create a custom backend that\n",
    "outputs the FX graph and simply returns the graph's unoptimized forward method.\n",
    "\n"
   ]
  },
  {
   "cell_type": "code",
   "execution_count": null,
   "metadata": {
    "collapsed": false,
    "jupyter": {
     "outputs_hidden": false
    }
   },
   "outputs": [],
   "source": [
    "from typing import List\n",
    "def custom_backend(gm: torch.fx.GraphModule, example_inputs: List[torch.Tensor]):\n",
    "    print(\"custom backend called with FX graph:\")\n",
    "    gm.graph.print_tabular()\n",
    "    return gm.forward\n",
    "\n",
    "# Reset since we are using a different backend.\n",
    "torch._dynamo.reset()\n",
    "\n",
    "opt_model = torch.compile(init_model(), backend=custom_backend)\n",
    "opt_model(generate_data(16)[0])"
   ]
  },
  {
   "cell_type": "markdown",
   "metadata": {},
   "source": [
    "Using our custom backend, we can now see how TorchDynamo is able to handle\n",
    "data-dependent control flow. Consider the function below, where the line\n",
    "``if b.sum() < 0`` is the source of data-dependent control flow.\n",
    "\n"
   ]
  },
  {
   "cell_type": "code",
   "execution_count": null,
   "metadata": {
    "collapsed": false,
    "jupyter": {
     "outputs_hidden": false
    }
   },
   "outputs": [],
   "source": [
    "def bar(a, b):\n",
    "    x = a / (torch.abs(a) + 1)\n",
    "    if b.sum() < 0:\n",
    "        b = b * -1\n",
    "    return x * b\n",
    "\n",
    "opt_bar = torch.compile(bar, backend=custom_backend)\n",
    "inp1 = torch.randn(10)\n",
    "inp2 = torch.randn(10)\n",
    "opt_bar(inp1, inp2)\n",
    "opt_bar(inp1, -inp2)"
   ]
  },
  {
   "cell_type": "markdown",
   "metadata": {},
   "source": [
    "The output reveals that TorchDynamo extracted 3 different FX graphs\n",
    "corresponding the following code (order may differ from the output above):\n",
    "\n",
    "1. ``x = a / (torch.abs(a) + 1)``\n",
    "2. ``b = b * -1; return x * b``\n",
    "3. ``return x * b``\n",
    "\n",
    "When TorchDynamo encounters unsupported Python features, such as data-dependent\n",
    "control flow, it breaks the computation graph, lets the default Python\n",
    "interpreter handle the unsupported code, then resumes capturing the graph.\n",
    "\n",
    "Let's investigate by example how TorchDynamo would step through ``bar``.\n",
    "If ``b.sum() < 0``, then TorchDynamo would run graph 1, let\n",
    "Python determine the result of the conditional, then run\n",
    "graph 2. On the other hand, if ``not b.sum() < 0``, then TorchDynamo\n",
    "would run graph 1, let Python determine the result of the conditional, then\n",
    "run graph 3.\n",
    "\n",
    "This highlights a major difference between TorchDynamo and previous PyTorch\n",
    "compiler solutions. When encountering unsupported Python features,\n",
    "previous solutions either raise an error or silently fail.\n",
    "TorchDynamo, on the other hand, will break the computation graph.\n",
    "\n",
    "We can see where TorchDynamo breaks the graph by using ``torch._dynamo.explain``:\n",
    "\n"
   ]
  },
  {
   "cell_type": "code",
   "execution_count": null,
   "metadata": {
    "collapsed": false,
    "jupyter": {
     "outputs_hidden": false
    }
   },
   "outputs": [],
   "source": [
    "# Reset since we are using a different backend.\n",
    "torch._dynamo.reset()\n",
    "explain_output = torch._dynamo.explain(bar)(torch.randn(10), torch.randn(10))\n",
    "print(explain_output)"
   ]
  },
  {
   "cell_type": "markdown",
   "metadata": {},
   "source": [
    "In order to maximize speedup, graph breaks should be limited.\n",
    "We can force TorchDynamo to raise an error upon the first graph\n",
    "break encountered by using ``fullgraph=True``:\n",
    "\n"
   ]
  },
  {
   "cell_type": "code",
   "execution_count": null,
   "metadata": {
    "collapsed": false,
    "jupyter": {
     "outputs_hidden": false
    }
   },
   "outputs": [],
   "source": [
    "opt_bar = torch.compile(bar, fullgraph=True)\n",
    "try:\n",
    "    opt_bar(torch.randn(10), torch.randn(10))\n",
    "except:\n",
    "    tb.print_exc()"
   ]
  },
  {
   "cell_type": "markdown",
   "metadata": {},
   "source": [
    "And below, we demonstrate that TorchDynamo does not break the graph on\n",
    "the model we used above for demonstrating speedups.\n",
    "\n"
   ]
  },
  {
   "cell_type": "code",
   "execution_count": null,
   "metadata": {
    "collapsed": false,
    "jupyter": {
     "outputs_hidden": false
    }
   },
   "outputs": [],
   "source": [
    "opt_model = torch.compile(init_model(), fullgraph=True)\n",
    "print(opt_model(generate_data(16)[0]))"
   ]
  },
  {
   "cell_type": "markdown",
   "metadata": {},
   "source": [
    "We can use ``torch.export`` (from PyTorch 2.1+) to extract a single, exportable\n",
    "FX graph from the input PyTorch program. The exported graph is intended to be\n",
    "run on different (i.e. Python-less) environments. One important restriction\n",
    "is that the ``torch.export`` does not support graph breaks. Please check\n",
    "[this tutorial](https://pytorch.org/tutorials/intermediate/torch_export_tutorial.html)_\n",
    "for more details on ``torch.export``.\n",
    "\n"
   ]
  },
  {
   "cell_type": "markdown",
   "metadata": {},
   "source": [
    "## Conclusion\n",
    "\n",
    "In this tutorial, we introduced ``torch.compile`` by covering\n",
    "basic usage, demonstrating speedups over eager mode, comparing to previous\n",
    "PyTorch compiler solutions, and briefly investigating TorchDynamo and its interactions\n",
    "with FX graphs. We hope that you will give ``torch.compile`` a try!\n",
    "\n"
   ]
  }
 ],
 "metadata": {
  "kernelspec": {
   "display_name": "Python 3 (ipykernel)",
   "language": "python",
   "name": "python3"
  },
  "language_info": {
   "codemirror_mode": {
    "name": "ipython",
    "version": 3
   },
   "file_extension": ".py",
   "mimetype": "text/x-python",
   "name": "python",
   "nbconvert_exporter": "python",
   "pygments_lexer": "ipython3",
   "version": "3.11.7"
  }
 },
 "nbformat": 4,
 "nbformat_minor": 4
}
