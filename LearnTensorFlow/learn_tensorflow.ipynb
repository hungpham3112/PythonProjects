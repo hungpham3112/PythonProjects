{
 "cells": [
  {
   "cell_type": "markdown",
   "id": "4acf136a-f723-40ba-ba8b-190df2d199bf",
   "metadata": {},
   "source": [
    "# Learning TensorFlow from scratch\n",
    "- This programming exercise and example below is based on many sources: Andrew Ng Deep Learning Specialization, Hands-On Machine Learning with Scikit-Learn and TensorFlow Concepts, Tools, and Techniques to Build Intelligent Systems and many more.. Feel free to copy and distribute if you wish."
   ]
  },
  {
   "cell_type": "markdown",
   "id": "5bc974c2-b21f-47d5-a19e-97a0a845a572",
   "metadata": {},
   "source": [
    "## Import libraries"
   ]
  },
  {
   "cell_type": "code",
   "execution_count": 2,
   "id": "c3deea41-abb2-40a7-a69c-0abbd52ac425",
   "metadata": {},
   "outputs": [],
   "source": [
    "import numpy as np\n",
    "import tensorflow as tf"
   ]
  },
  {
   "cell_type": "markdown",
   "id": "acb3c708-1504-45f6-9fdc-ec31f75676d6",
   "metadata": {},
   "source": [
    "## Motivating problem\n",
    "Movivating problem is problem to reproduce an equation with TensorFlow syntax and way of thinking"
   ]
  },
  {
   "cell_type": "code",
   "execution_count": 5,
   "id": "4735b8d6-6c77-463f-8778-73e71f339a2e",
   "metadata": {},
   "outputs": [],
   "source": [
    "# Create a variable\n",
    "w = tf.Variable(0, dtype=tf.float32);\n",
    "optimizer = tf.keras.optimizers.Adam(0.1)"
   ]
  },
  {
   "cell_type": "code",
   "execution_count": 14,
   "id": "df62cb71-6a78-4e49-8905-25afe0f7aa94",
   "metadata": {},
   "outputs": [
    {
     "data": {
      "text/plain": [
       "0.5787811430122091"
      ]
     },
     "execution_count": 14,
     "metadata": {},
     "output_type": "execute_result"
    }
   ],
   "source": [
    "np.random.rand()"
   ]
  },
  {
   "cell_type": "markdown",
   "id": "1046e46f-989e-4eb3-a637-b6a312c6b577",
   "metadata": {},
   "source": [
    "- The special feature in TensorFlow is you implement Feed-forward step in Neural Networks and TensorFlow will find a way to use Back-propagation for you."
   ]
  },
  {
   "cell_type": "code",
   "execution_count": null,
   "id": "3abd5afd-f4a2-43ad-ab1b-2206f9100815",
   "metadata": {},
   "outputs": [],
   "source": []
  }
 ],
 "metadata": {
  "kernelspec": {
   "display_name": "Python 3 (ipykernel)",
   "language": "python",
   "name": "python3"
  },
  "language_info": {
   "codemirror_mode": {
    "name": "ipython",
    "version": 3
   },
   "file_extension": ".py",
   "mimetype": "text/x-python",
   "name": "python",
   "nbconvert_exporter": "python",
   "pygments_lexer": "ipython3",
   "version": "3.11.0"
  }
 },
 "nbformat": 4,
 "nbformat_minor": 5
}
